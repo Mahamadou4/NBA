# Import required libraries
import pandas as pd
import matplotlib.pyplot as plt

# Sample NBA data for demonstration
data = {
    'Player': ['LeBron James', 'Stephen Curry', 'Kevin Durant', 'Giannis Antetokounmpo', 'Luka Doncic'],
    'Team': ['Lakers', 'Warriors', 'Suns', 'Bucks', 'Mavericks'],
    'Points Per Game': [27.2, 29.3, 28.5, 29.9, 28.4],
    'Assists Per Game': [7.9, 6.4, 5.3, 5.8, 8.7],
    'Rebounds Per Game': [7.5, 4.5, 7.1, 11.2, 8.0]
}

# Create a DataFrame
nba_df = pd.DataFrame(data)

# Display the DataFrame
print("NBA Player Stats:")
print(nba_df)

# Plot for Points Per Game by Player
plt.figure(figsize=(10, 6))
plt.bar(nba_df['Player'], nba_df['Points Per Game'], color='skyblue')
plt.xlabel('Player')
plt.ylabel('Points Per Game')
plt.title('Points Per Game of Top NBA Players')
plt.xticks(rotation=45)
plt.show()

# Plot for Assists Per Game by Player
plt.figure(figsize=(10, 6))
plt.bar(nba_df['Player'], nba_df['Assists Per Game'], color='lightgreen')
plt.xlabel('Player')
plt.ylabel('Assists Per Game')
plt.title('Assists Per Game of Top NBA Players')
plt.xticks(rotation=45)
plt.show()

# Plot for Rebounds Per Game by Player
plt.figure(figsize=(10, 6))
plt.bar(nba_df['Player'], nba_df['Rebounds Per Game'], color='salmon')
plt.xlabel('Player')
plt.ylabel('Rebounds Per Game')
plt.title('Rebounds Per Game of Top NBA Players')
plt.xticks(rotation=45)
plt.show()


# Define features (Assists and Rebounds) and target (Points)
X = nba_df[['Assists Per Game', 'Rebounds Per Game']]  # Features
y = nba_df['Points Per Game']  # Target


from sklearn.linear_model import LinearRegression

# Training the  Linear Regression model
model = LinearRegression()
model.fit(X, y)


 # Predict Points for Kevin Durant
Kevin_Durant_features = [[10.0, 8.0]]  # Assists: 10, Rebounds: 8
Kevin_Durant_predicted_points = model.predict(Kevin_Durant_features)

print("Predicted Points Per Game for Kevin Durant:", Kevin_Durant_predicted_points[0])
